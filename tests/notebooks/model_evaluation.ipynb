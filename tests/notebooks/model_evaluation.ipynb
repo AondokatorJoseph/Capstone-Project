{
 "cells": [
  {
   "cell_type": "code",
   "execution_count": 1,
   "metadata": {},
   "outputs": [],
   "source": [
    "import sys\n",
    "import os\n",
    "\n",
    "# Add the project root directory to Python path\n",
    "notebook_path = os.path.abspath('')  # Get current notebook directory\n",
    "project_root = os.path.abspath(os.path.join(notebook_path, '../..'))\n",
    "sys.path.append(project_root)\n",
    "\n",
    "# Now import using src as the root package\n",
    "from src.data.dataset_loader import WasteDatasetLoader\n",
    "from src.data.preprocessing import DataPreprocessor\n",
    "from src.models.model import WasteClassifier\n",
    "import matplotlib.pyplot as plt"
   ]
  },
  {
   "cell_type": "code",
   "execution_count": 4,
   "metadata": {},
   "outputs": [],
   "source": [
    "def test_model():\n",
    "    \"\"\"Test the model training pipeline\"\"\"\n",
    "    # Load and preprocess data\n",
    "    loader = WasteDatasetLoader()\n",
    "    preprocessor = DataPreprocessor()\n",
    "    \n",
    "    # Get data\n",
    "    images, labels = loader.load_combined_datasets()\n",
    "    processed_images, processed_labels = preprocessor.preprocess_images(images, labels)\n",
    "    data_splits = preprocessor.create_train_val_test_split(processed_images, processed_labels)\n",
    "    \n",
    "    # Initialize and train model\n",
    "    classifier = WasteClassifier()\n",
    "    history = classifier.train(\n",
    "        train_data=data_splits['train'],\n",
    "        validation_data=data_splits['val'],\n",
    "        epochs=5\n",
    "    )\n",
    "    \n",
    "    return history"
   ]
  },
  {
   "cell_type": "code",
   "execution_count": null,
   "metadata": {},
   "outputs": [
    {
     "name": "stdout",
     "output_type": "stream",
     "text": [
      "Loading TrashNet dataset...\n",
      "Loading COCO dataset...\n",
      "loading annotations into memory...\n",
      "Done (t=14.83s)\n",
      "creating index...\n",
      "index created!\n",
      "TrashNet images shape: (2527, 224, 224, 3)\n",
      "COCO images shape: (4877, 224, 224, 3)\n",
      "Total images loaded: 7404\n",
      "Images per category: [5209  763  403  482  410  137]\n"
     ]
    }
   ],
   "source": [
    "# Run the test\n",
    "history = test_model()\n",
    "\n",
    "# Plot training results\n",
    "plt.figure(figsize=(12, 4))\n",
    "\n",
    "plt.subplot(1, 2, 1)\n",
    "plt.plot(history.history['loss'], label='Training Loss')\n",
    "plt.plot(history.history['val_loss'], label='Validation Loss')\n",
    "plt.title('Model Loss')\n",
    "plt.xlabel('Epoch')\n",
    "plt.ylabel('Loss')\n",
    "plt.legend()\n",
    "\n",
    "plt.subplot(1, 2, 2)\n",
    "plt.plot(history.history['accuracy'], label='Training Accuracy')\n",
    "plt.plot(history.history['val_accuracy'], label='Validation Accuracy')\n",
    "plt.title('Model Accuracy')\n",
    "plt.xlabel('Epoch')\n",
    "plt.ylabel('Accuracy')\n",
    "plt.legend()\n",
    "\n",
    "plt.tight_layout()\n",
    "plt.show()"
   ]
  }
 ],
 "metadata": {
  "kernelspec": {
   "display_name": "capstone-environment",
   "language": "python",
   "name": "python3"
  },
  "language_info": {
   "codemirror_mode": {
    "name": "ipython",
    "version": 3
   },
   "file_extension": ".py",
   "mimetype": "text/x-python",
   "name": "python",
   "nbconvert_exporter": "python",
   "pygments_lexer": "ipython3",
   "version": "3.12.4"
  }
 },
 "nbformat": 4,
 "nbformat_minor": 2
}
